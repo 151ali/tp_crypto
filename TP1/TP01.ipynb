{
 "cells": [
  {
   "cell_type": "code",
   "execution_count": 78,
   "metadata": {},
   "outputs": [],
   "source": [
    "def chiffre_affine(a,b,text):\n",
    "    chif = \"\"\n",
    "    for letter in text:\n",
    "        x = ord(letter)-ord(\"A\")\n",
    "        p = (a*x+b)%26\n",
    "        chif+=chr(p+ord(\"A\"))\n",
    "    return chif"
   ]
  },
  {
   "cell_type": "code",
   "execution_count": null,
   "metadata": {},
   "outputs": [],
   "source": []
  },
  {
   "cell_type": "code",
   "execution_count": 79,
   "metadata": {},
   "outputs": [],
   "source": [
    "def invmod(n,m): \n",
    "    if n==0:\n",
    "        return 0\n",
    "    else:\n",
    "        if m%n==0 :\n",
    "            return 1\n",
    "        else:\n",
    "            return m - invmod(m%n,n)*m//n\n",
    "        \n",
    "def dechiffre_affine(a,b,text):\n",
    "    dechif = \"\"\n",
    "    a_inverse = invmod(a,26)\n",
    "    for letter in text:\n",
    "        x = ord(letter)-ord(\"A\")\n",
    "        p = (x-b)*a_inverse%26\n",
    "        dechif+=chr(p+ord(\"A\"))\n",
    "    return dechif"
   ]
  },
  {
   "cell_type": "code",
   "execution_count": 86,
   "metadata": {},
   "outputs": [
    {
     "data": {
      "text/plain": [
       "'S'"
      ]
     },
     "execution_count": 86,
     "metadata": {},
     "output_type": "execute_result"
    }
   ],
   "source": [
    "chiffre_affine(1,1,\"R\")"
   ]
  },
  {
   "cell_type": "code",
   "execution_count": 85,
   "metadata": {},
   "outputs": [
    {
     "data": {
      "text/plain": [
       "'Q'"
      ]
     },
     "execution_count": 85,
     "metadata": {},
     "output_type": "execute_result"
    }
   ],
   "source": [
    "dechiffre_affine(1,1,\"R\")"
   ]
  },
  {
   "cell_type": "markdown",
   "metadata": {},
   "source": [
    "## Attaque par force brute"
   ]
  },
  {
   "cell_type": "code",
   "execution_count": 68,
   "metadata": {},
   "outputs": [],
   "source": [
    "ph = \"RdcvgpijapixdcndjhjrrthhujaanqgtpzRtphtgrxewtg\""
   ]
  },
  {
   "cell_type": "code",
   "execution_count": 71,
   "metadata": {},
   "outputs": [],
   "source": [
    "ph = ph.upper()"
   ]
  },
  {
   "cell_type": "code",
   "execution_count": 97,
   "metadata": {},
   "outputs": [
    {
     "name": "stdout",
     "output_type": "stream",
     "text": [
      "decalge : 1 : QCBUFOHIZOHWCBMCIGIQQSGGTIZZMPFSOYQSOGSFQWDVSF\n",
      "\n",
      "decalge : 2 : PBATENGHYNGVBALBHFHPPRFFSHYYLOERNXPRNFREPVCURE\n",
      "\n",
      "decalge : 3 : OAZSDMFGXMFUAZKAGEGOOQEERGXXKNDQMWOQMEQDOUBTQD\n",
      "\n",
      "decalge : 4 : NZYRCLEFWLETZYJZFDFNNPDDQFWWJMCPLVNPLDPCNTASPC\n",
      "\n",
      "decalge : 5 : MYXQBKDEVKDSYXIYECEMMOCCPEVVILBOKUMOKCOBMSZROB\n",
      "\n",
      "decalge : 6 : LXWPAJCDUJCRXWHXDBDLLNBBODUUHKANJTLNJBNALRYQNA\n",
      "\n",
      "decalge : 7 : KWVOZIBCTIBQWVGWCACKKMAANCTTGJZMISKMIAMZKQXPMZ\n",
      "\n",
      "decalge : 8 : JVUNYHABSHAPVUFVBZBJJLZZMBSSFIYLHRJLHZLYJPWOLY\n",
      "\n",
      "decalge : 9 : IUTMXGZARGZOUTEUAYAIIKYYLARREHXKGQIKGYKXIOVNKX\n",
      "\n",
      "decalge : 10 : HTSLWFYZQFYNTSDTZXZHHJXXKZQQDGWJFPHJFXJWHNUMJW\n",
      "\n",
      "decalge : 11 : GSRKVEXYPEXMSRCSYWYGGIWWJYPPCFVIEOGIEWIVGMTLIV\n",
      "\n",
      "decalge : 12 : FRQJUDWXODWLRQBRXVXFFHVVIXOOBEUHDNFHDVHUFLSKHU\n",
      "\n",
      "decalge : 13 : EQPITCVWNCVKQPAQWUWEEGUUHWNNADTGCMEGCUGTEKRJGT\n",
      "\n",
      "decalge : 14 : DPOHSBUVMBUJPOZPVTVDDFTTGVMMZCSFBLDFBTFSDJQIFS\n",
      "\n",
      "decalge : 15 : CONGRATULATIONYOUSUCCESSFULLYBREAKCEASERCIPHER\n",
      "\n",
      "decalge : 16 : BNMFQZSTKZSHNMXNTRTBBDRRETKKXAQDZJBDZRDQBHOGDQ\n",
      "\n",
      "decalge : 17 : AMLEPYRSJYRGMLWMSQSAACQQDSJJWZPCYIACYQCPAGNFCP\n",
      "\n",
      "decalge : 18 : ZLKDOXQRIXQFLKVLRPRZZBPPCRIIVYOBXHZBXPBOZFMEBO\n",
      "\n",
      "decalge : 19 : YKJCNWPQHWPEKJUKQOQYYAOOBQHHUXNAWGYAWOANYELDAN\n",
      "\n",
      "decalge : 20 : XJIBMVOPGVODJITJPNPXXZNNAPGGTWMZVFXZVNZMXDKCZM\n",
      "\n",
      "decalge : 21 : WIHALUNOFUNCIHSIOMOWWYMMZOFFSVLYUEWYUMYLWCJBYL\n",
      "\n",
      "decalge : 22 : VHGZKTMNETMBHGRHNLNVVXLLYNEERUKXTDVXTLXKVBIAXK\n",
      "\n",
      "decalge : 23 : UGFYJSLMDSLAGFQGMKMUUWKKXMDDQTJWSCUWSKWJUAHZWJ\n",
      "\n",
      "decalge : 24 : TFEXIRKLCRKZFEPFLJLTTVJJWLCCPSIVRBTVRJVITZGYVI\n",
      "\n",
      "decalge : 25 : SEDWHQJKBQJYEDOEKIKSSUIIVKBBORHUQASUQIUHSYFXUH\n",
      "\n"
     ]
    }
   ],
   "source": [
    "for l in range(1,26):\n",
    "    clair = \"\"\n",
    "    for i in range(len(ph)):\n",
    "        clair += dechiffre_affine(1,l,ph[i])\n",
    "    print(f\"decalge : {l} : {clair}\\n\")\n",
    "    clair = \"\""
   ]
  },
  {
   "cell_type": "code",
   "execution_count": 91,
   "metadata": {},
   "outputs": [],
   "source": [
    "chiff = \"CONGRATULATIONYOUSUCCESSFULLYBREAKCEASERCIPHER\""
   ]
  },
  {
   "cell_type": "code",
   "execution_count": 93,
   "metadata": {},
   "outputs": [
    {
     "name": "stdout",
     "output_type": "stream",
     "text": [
      "RDCVGPIJAPIXDCNDJHJRRTHHUJAANQGTPZRTPHTGRXEWTG\n",
      "\n"
     ]
    }
   ],
   "source": [
    "c =\"\"\n",
    "for i in range(len(chiff)):\n",
    "    c += chiffre_affine(1,15,chiff[i])\n",
    "print(f\"{c}\\n\")\n"
   ]
  },
  {
   "cell_type": "code",
   "execution_count": 94,
   "metadata": {},
   "outputs": [
    {
     "data": {
      "text/plain": [
       "True"
      ]
     },
     "execution_count": 94,
     "metadata": {},
     "output_type": "execute_result"
    }
   ],
   "source": [
    "c == ph"
   ]
  },
  {
   "cell_type": "markdown",
   "metadata": {},
   "source": [
    "## Attaque par Analyse de fréquences"
   ]
  },
  {
   "cell_type": "code",
   "execution_count": 133,
   "metadata": {},
   "outputs": [
    {
     "data": {
      "text/plain": [
       "4"
      ]
     },
     "execution_count": 133,
     "metadata": {},
     "output_type": "execute_result"
    }
   ],
   "source": [
    "with open(\"TextChiffe.txt\",\"r\") as f:\n",
    "    words = f.readlines()\n",
    "words = [word.upper().replace(\"\\n\",\"\") for word in words]\n",
    "len(words)"
   ]
  },
  {
   "cell_type": "code",
   "execution_count": 134,
   "metadata": {},
   "outputs": [
    {
     "data": {
      "text/plain": [
       "'CQN DWRENABN RB JUU XO BYJLN JWM CRVN JWM CQNRA LXWCNWCB RWLUDMRWP YUJWNCB BCJAB PJUJGRNB JWM JUU XCQNA OXAVB XO VJCCNA JWM NWNAPH'"
      ]
     },
     "execution_count": 134,
     "metadata": {},
     "output_type": "execute_result"
    }
   ],
   "source": [
    "words[0]"
   ]
  },
  {
   "cell_type": "code",
   "execution_count": 209,
   "metadata": {},
   "outputs": [],
   "source": [
    "def get_freq(chiffre):\n",
    "    f = [0] * 26\n",
    "    for letter in chiffre:\n",
    "        f[ord(letter)-ord(\"A\")]+=1/26\n",
    "    return f"
   ]
  },
  {
   "cell_type": "code",
   "execution_count": null,
   "metadata": {},
   "outputs": [],
   "source": []
  },
  {
   "cell_type": "code",
   "execution_count": 210,
   "metadata": {},
   "outputs": [],
   "source": [
    "ref = \"Une première méthode est appelée une attaque par force brute. Comme il n’y a qu’un nombre limité de décalages (vingt-six dont un inutile), il suffit de tester tousles chiffrements possibles jusqu’à trouver le bon. Une méthode simple pour menerl’attaque est de prendre un fragment du texte chiffré et d’écrire dans un tableautous les décalages possibles. Par conséquent, il est demandé d’écrire un programmepour décrypter le message suivant\""
   ]
  },
  {
   "cell_type": "code",
   "execution_count": 211,
   "metadata": {},
   "outputs": [],
   "source": [
    "ref = ref.upper().replace(\".\",\"\").replace(\"’\",\"\").replace(\"È\",\"E\").replace(\" \",\"\").replace(\"À\",\"A\").replace(r\")\",\"\").replace(\"É\",\"E\").replace(\",\",\"\").replace(\"-\",\"\").replace(r\"(\",\"\")"
   ]
  },
  {
   "cell_type": "code",
   "execution_count": 212,
   "metadata": {},
   "outputs": [
    {
     "data": {
      "text/plain": [
       "'UNEPREMIEREMETHODEESTAPPELEEUNEATTAQUEPARFORCEBRUTECOMMEILNYAQUUNNOMBRELIMITEDEDECALAGESVINGTSIXDONTUNINUTILEILSUFFITDETESTERTOUSLESCHIFFREMENTSPOSSIBLESJUSQUATROUVERLEBONUNEMETHODESIMPLEPOURMENERLATTAQUEESTDEPRENDREUNFRAGMENTDUTEXTECHIFFREETDECRIREDANSUNTABLEAUTOUSLESDECALAGESPOSSIBLESPARCONSEQUENTILESTDEMANDEDECRIREUNPROGRAMMEPOURDECRYPTERLEMESSAGESUIVANT'"
      ]
     },
     "execution_count": 212,
     "metadata": {},
     "output_type": "execute_result"
    }
   ],
   "source": [
    "ref"
   ]
  },
  {
   "cell_type": "code",
   "execution_count": 215,
   "metadata": {},
   "outputs": [],
   "source": [
    "def distance(f, g):\n",
    "    d = 0\n",
    "    for i in range(len(f)):\n",
    "        d += abs(f[i] - g[i])\n",
    "    return d"
   ]
  },
  {
   "cell_type": "code",
   "execution_count": 216,
   "metadata": {},
   "outputs": [
    {
     "data": {
      "text/plain": [
       "[0.8076923076923074,\n",
       " 0.23076923076923078,\n",
       " 0.3846153846153846,\n",
       " 0.6153846153846152,\n",
       " 2.5384615384615383,\n",
       " 0.3076923076923077,\n",
       " 0.23076923076923078,\n",
       " 0.15384615384615385,\n",
       " 0.7307692307692305,\n",
       " 0.038461538461538464,\n",
       " 0,\n",
       " 0.6538461538461536,\n",
       " 0.5769230769230768,\n",
       " 0.8846153846153842,\n",
       " 0.6153846153846152,\n",
       " 0.4999999999999999,\n",
       " 0.19230769230769232,\n",
       " 0.9999999999999996,\n",
       " 0.9999999999999996,\n",
       " 1.1153846153846152,\n",
       " 0.9615384615384611,\n",
       " 0.11538461538461539,\n",
       " 0,\n",
       " 0.07692307692307693,\n",
       " 0.07692307692307693,\n",
       " 0]"
      ]
     },
     "execution_count": 216,
     "metadata": {},
     "output_type": "execute_result"
    }
   ],
   "source": [
    "get_freq(ref)"
   ]
  },
  {
   "cell_type": "code",
   "execution_count": null,
   "metadata": {},
   "outputs": [],
   "source": [
    "for d in range(26):\n",
    "    "
   ]
  },
  {
   "cell_type": "code",
   "execution_count": null,
   "metadata": {},
   "outputs": [],
   "source": []
  },
  {
   "cell_type": "code",
   "execution_count": 146,
   "metadata": {},
   "outputs": [
    {
     "name": "stdout",
     "output_type": "stream",
     "text": [
      "THE  UNIVERSE  IS  ALL  OF  SPACE  AND  TIME  AND  THEIR  CONTENTS  INCLUDING  PLANETS  STARS  GALAXIES  AND  ALL  OTHER  FORMS  OF  MATTER  AND  ENERGY\n",
      "\n",
      "THE  BIG  BANG  THEORY  IS  THE  PREVAILING  COSMOLOGICAL  DESCRIPTION  OF  THE  DEVELOPMENT  OF  THE  UNIVERSE  ACCORDING  TO  ESTIMATION  OF  THIS  THEORY\n",
      "\n",
      "SPACE  AND  TIME  EMERGED  TOGETHER  13799  BILLION  YEARS  AGO  AND  THE  UNIVERSE  HAS  BEEN  EXPANDING  EVER  SINCE  WHILE  THE  SPATIAL  SIZE  \n",
      "\n",
      "OF  THE  ENTIRE  UNIVERSE  IS  UNKNOWN  IT  IS  POSSIBLE  TO  MEASURE  THE  SIZE  OF  THE  OBSERVABLE  UNIVERSE  WHICH  IS  CURRENTLY  ESTIMATED  TO  BE  93  BILLION  LIGHTYEARS  IN  DIAMETER\n",
      "\n"
     ]
    }
   ],
   "source": [
    "D = 9\n",
    "for word in words:\n",
    "    clair = \"\"\n",
    "    for i in range(len(word)):\n",
    "        if word[i] != \" \":\n",
    "            if word[i].isdigit():\n",
    "                clair += word[i]\n",
    "            else:                \n",
    "                clair += dechiffre_affine(1,D,word[i])\n",
    "        else :\n",
    "            clair += \"  \"\n",
    "    print(f\"{clair}\\n\")\n",
    "    clair = \"\"\n",
    "    "
   ]
  },
  {
   "cell_type": "code",
   "execution_count": null,
   "metadata": {},
   "outputs": [],
   "source": []
  },
  {
   "cell_type": "code",
   "execution_count": 195,
   "metadata": {},
   "outputs": [
    {
     "data": {
      "text/plain": [
       "1"
      ]
     },
     "execution_count": 195,
     "metadata": {},
     "output_type": "execute_result"
    }
   ],
   "source": [
    "abs(-1)"
   ]
  },
  {
   "cell_type": "code",
   "execution_count": null,
   "metadata": {},
   "outputs": [],
   "source": []
  }
 ],
 "metadata": {
  "kernelspec": {
   "display_name": "Python 3",
   "language": "python",
   "name": "python3"
  },
  "language_info": {
   "codemirror_mode": {
    "name": "ipython",
    "version": 3
   },
   "file_extension": ".py",
   "mimetype": "text/x-python",
   "name": "python",
   "nbconvert_exporter": "python",
   "pygments_lexer": "ipython3",
   "version": "3.7.4"
  }
 },
 "nbformat": 4,
 "nbformat_minor": 2
}
