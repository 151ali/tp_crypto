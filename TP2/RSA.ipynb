{
 "cells": [
  {
   "cell_type": "code",
   "execution_count": 203,
   "metadata": {},
   "outputs": [],
   "source": [
    "# for viginere\n",
    "def numrep(string):\n",
    "    string = string.upper()\n",
    "    output = \"\"\n",
    "    for s in string:\n",
    "        n = ord(s) - 65\n",
    "        if n >= 10:\n",
    "            output += str(n)\n",
    "        else :\n",
    "            output += '0' + str(n)\n",
    "    return output\n",
    "\n",
    "def strrep(num):\n",
    "    output = \"\"\n",
    "    for n in range(len(num)-1):\n",
    "        if n % 2 == 0 :\n",
    "            output+= str(chr(65 + int(num[n:n+2])))\n",
    "    return output"
   ]
  },
  {
   "cell_type": "code",
   "execution_count": null,
   "metadata": {},
   "outputs": [],
   "source": []
  },
  {
   "cell_type": "code",
   "execution_count": null,
   "metadata": {},
   "outputs": [],
   "source": []
  },
  {
   "cell_type": "markdown",
   "metadata": {},
   "source": [
    "## RS A"
   ]
  },
  {
   "cell_type": "code",
   "execution_count": 204,
   "metadata": {},
   "outputs": [],
   "source": [
    "from random import randrange"
   ]
  },
  {
   "cell_type": "code",
   "execution_count": 205,
   "metadata": {},
   "outputs": [],
   "source": [
    "def get_u_r(num):\n",
    "    u = 0\n",
    "    num -= 1\n",
    "\n",
    "    while True:\n",
    "        u += 1\n",
    "        num //= 2\n",
    "        if u != 0 and num % 2 != 0:\n",
    "            break\n",
    "\n",
    "    return (u, num)\n",
    "\n",
    "def modular_pow(base, exponent, modulus): #square and multiply\n",
    "    if modulus == 1:\n",
    "        return 0\n",
    "    result = 1\n",
    "    base = base % modulus\n",
    "    while exponent > 0:\n",
    "        if (exponent % 2 == 1):\n",
    "            result = (result * base) % modulus\n",
    "        exponent = exponent >> 1\n",
    "        base = (base * base) % modulus\n",
    "    return result\n",
    "\n",
    "def inverse(ra, rb):\n",
    "    if rb > ra:\n",
    "        ra, rb = rb, ra\n",
    "\n",
    "    modulos = ra\n",
    "    mult = [(1, 0), (0, 1)]\n",
    "    i = 2\n",
    "    while True:\n",
    "        # print(str(ra) + \" = \" + str(rb) + \"*\", end='')\n",
    "        mod = ra % rb\n",
    "        q = (ra - mod) // rb\n",
    "        # print(str(q)+\" + \" + str(mod))\n",
    "        ra = rb\n",
    "        rb = mod\n",
    "        mult = [\n",
    "            (mult[1][0], mult[1][1]),\n",
    "            ((-q * mult[1][0]) + mult[0][0], (-q * mult[1][1]) + mult[0][1])\n",
    "        ]\n",
    "        if mod == 0:\n",
    "            # print(\"GCD = \" + str(ra))\n",
    "            if ra == 1:\n",
    "                return mult[0][1] % modulos\n",
    "            else:\n",
    "                return -1\n",
    "            \n",
    "            \n",
    "def miller_rabin(p, s):\n",
    "    if p == 2:\n",
    "        return True\n",
    "    if p % 2 == 0:\n",
    "        return False\n",
    "\n",
    "    u, r = get_u_r(p)\n",
    "    for i in range(s):\n",
    "        a = randrange(2, p - 1)\n",
    "        z = modular_pow(a, r, p)\n",
    "\n",
    "        if z != 1 and z != (p - 1):\n",
    "            for j in range(u):\n",
    "                z = modular_pow(z, 2, p)\n",
    "                if z == p - 1:\n",
    "                    break\n",
    "            else:\n",
    "                return False\n",
    "\n",
    "    return True            \n",
    "            \n",
    "def get_rand_prime(nbits=16):\n",
    "    while True:\n",
    "        p = randrange(2 ** nbits, 2 * 2 ** nbits)\n",
    "        # print(p)\n",
    "        if miller_rabin(p, 100):\n",
    "            return p\n",
    "def CRT(y, d, p, q):\n",
    "    n = p * q\n",
    "\n",
    "    # 1- Convert to CRT domain\n",
    "    yp = y % p\n",
    "    yq = y % q\n",
    "    # print(\"(yp, yq) = \", str((yp, yq)))\n",
    "\n",
    "    # 2- Do the computations\n",
    "    dp = d % (p - 1)\n",
    "    dq = d % (q - 1)\n",
    "    # print(\"(dp, dq) = \", str((dp, dq)))\n",
    "\n",
    "    xp = pow(yp, dp, p)\n",
    "    xq = pow(yq, dq, q)\n",
    "    # print(\"(xp, xq) = \", str((xp, xq)))\n",
    "\n",
    "    # 3- Inverse transform\n",
    "    inv = inverse(p, q)\n",
    "    print(inv)\n",
    "    cp = pow(q, p - 2, p)\n",
    "    cq = pow(p, q - 2, q)\n",
    "    # print(cq == pow(p, q-2, q))\n",
    "    # print(\"(cp, cq) = \", str((p, q)))\n",
    "\n",
    "    x = ((q * cp * xp) + (p * cq * xq)) % n\n",
    "    # print(\"x = \", x, \"mod \" + str(n))\n",
    "    return x"
   ]
  },
  {
   "cell_type": "code",
   "execution_count": null,
   "metadata": {},
   "outputs": [],
   "source": []
  },
  {
   "cell_type": "code",
   "execution_count": 206,
   "metadata": {},
   "outputs": [],
   "source": [
    "def msg_to_int(msg):\n",
    "    int_msg = \"\"\n",
    "    for ch in msg:\n",
    "        pre = \"{0:b}\".format(ord(ch))\n",
    "        if len(pre) < 7:\n",
    "            pre = \"0\" * (7 - len(pre)) + pre\n",
    "        int_msg += pre\n",
    "\n",
    "    return int(int_msg, 2)"
   ]
  },
  {
   "cell_type": "code",
   "execution_count": 207,
   "metadata": {},
   "outputs": [
    {
     "data": {
      "text/plain": [
       "1603177"
      ]
     },
     "execution_count": 207,
     "metadata": {},
     "output_type": "execute_result"
    }
   ],
   "source": [
    "msg_to_int(\"ali\")"
   ]
  },
  {
   "cell_type": "code",
   "execution_count": 208,
   "metadata": {},
   "outputs": [],
   "source": [
    "def int_to_msg(i):\n",
    "    bin_format = \"{0:7b}\".format(i)\n",
    "    msg = \"\"\n",
    "\n",
    "    for b in range(0, len(bin_format), 7):\n",
    "        msg += chr(int(bin_format[b:b + 7], 2))\n",
    "\n",
    "    return msg"
   ]
  },
  {
   "cell_type": "code",
   "execution_count": 209,
   "metadata": {},
   "outputs": [
    {
     "data": {
      "text/plain": [
       "'ALI'"
      ]
     },
     "execution_count": 209,
     "metadata": {},
     "output_type": "execute_result"
    }
   ],
   "source": [
    "int_to_msg(1074761)"
   ]
  },
  {
   "cell_type": "code",
   "execution_count": 210,
   "metadata": {},
   "outputs": [],
   "source": [
    "def encryption(msg, e, n):\n",
    "    int_msg = msg_to_int(msg)\n",
    "    encrypted = modular_pow(int_msg, e, n)\n",
    "    return encrypted\n",
    "\n",
    "def decryption(msg, d, p, q):\n",
    "    decrypted = CRT(int(msg), d, p, q)\n",
    "    return int_to_msg(decrypted)"
   ]
  },
  {
   "cell_type": "code",
   "execution_count": 211,
   "metadata": {},
   "outputs": [],
   "source": [
    "def RSA_Init(nbits=512):  # setup\n",
    "    p = get_rand_prime(nbits)\n",
    "    q = get_rand_prime(nbits)\n",
    "    while p == q:\n",
    "        q = get_rand_prime(nbits)\n",
    "    n = p * q\n",
    "    phi = (p - 1) * (q - 1)\n",
    "    e = randrange(2 ** 16, 2 ** 17)\n",
    "    d = inverse(phi, e)\n",
    "    while d == -1:\n",
    "        e = randrange(2 ** 16, 2 ** 17)\n",
    "        d = inverse(phi, e)\n",
    "\n",
    "    return {\n",
    "        \"p\": p,\n",
    "        \"q\": q,\n",
    "        \"n\": n,\n",
    "        \"phi\": phi,\n",
    "        \"e\": e,\n",
    "        \"d\": d\n",
    "    }"
   ]
  },
  {
   "cell_type": "code",
   "execution_count": 212,
   "metadata": {},
   "outputs": [],
   "source": [
    "RSAparams = RSA_Init(512)"
   ]
  },
  {
   "cell_type": "code",
   "execution_count": 213,
   "metadata": {},
   "outputs": [
    {
     "data": {
      "text/plain": [
       "{'p': 25389859574812623266407888161036107033628787976217847935425291027026324923299909576388858622986513106539782080393126395399686580482730389686712289048744751,\n",
       " 'q': 23859206077360364816838553567888649481402602749257891222102232879156192845192047738920126379845973525255791906001915563280718706432435605951514908842410099,\n",
       " 'n': 605781891870695589269424621725056351291994448025258500647277435857546215245083969831684600854816482463030756602071144275472009700037864145058070372783268690974233728169450910944902916070874970566984301993464504178238839387180392105400449758599989216677318732996779458603518765725584792237002665317589515640349,\n",
       " 'phi': 605781891870695589269424621725056351291994448025258500647277435857546215245083969831684600854816482463030756602071144275472009700037864145058070372783268641725168075996462827698461187146118455535593576517725346650714933204662623613443134449614986384190686937422793063561560085320297877071007027090391624485500,\n",
       " 'e': 105263,\n",
       " 'd': 25016709422702314455736477495785033288679781742547701493532532928690550313694080701275215032023476903249904514874203320877011164094359798206087912281512675732017001475890140999261001306481640521486422362297788224643586204465656734537656208282837709471294910053645454217551292390368266832863090988874841032827}"
      ]
     },
     "execution_count": 213,
     "metadata": {},
     "output_type": "execute_result"
    }
   ],
   "source": [
    "RSAparams"
   ]
  },
  {
   "cell_type": "code",
   "execution_count": 214,
   "metadata": {},
   "outputs": [],
   "source": [
    "message = \"hello world yoo\""
   ]
  },
  {
   "cell_type": "code",
   "execution_count": 220,
   "metadata": {},
   "outputs": [],
   "source": [
    "cipher = encryption(\n",
    "    message, \n",
    "    RSAparams['e'], \n",
    "    RSAparams['n']\n",
    ")"
   ]
  },
  {
   "cell_type": "code",
   "execution_count": 221,
   "metadata": {},
   "outputs": [
    {
     "data": {
      "text/plain": [
       "41538284339137666324408118553659370386853467487697817810583930601974806453019045560171811406497052182544578247662710336800447825066780958083232072572991467188387473631824797778307856827855492190549477829553368272749906294240550681870801544142693452285119033301229599459783598843947922169068130765735993115828"
      ]
     },
     "execution_count": 221,
     "metadata": {},
     "output_type": "execute_result"
    }
   ],
   "source": [
    "cipher"
   ]
  },
  {
   "cell_type": "code",
   "execution_count": 222,
   "metadata": {},
   "outputs": [
    {
     "name": "stdout",
     "output_type": "stream",
     "text": [
      "14700837478241349207771742350628766531301249374499565565433751081414710245083992637571926584608511125548317702137149514148129160029552286340969193439087896\n"
     ]
    }
   ],
   "source": [
    "plain = decryption(\n",
    "    encrypt,\n",
    "    RSAparams['d'], \n",
    "    RSAparams['p'], \n",
    "    RSAparams['q']\n",
    ")"
   ]
  },
  {
   "cell_type": "code",
   "execution_count": 223,
   "metadata": {},
   "outputs": [
    {
     "data": {
      "text/plain": [
       "41538284339137666324408118553659370386853467487697817810583930601974806453019045560171811406497052182544578247662710336800447825066780958083232072572991467188387473631824797778307856827855492190549477829553368272749906294240550681870801544142693452285119033301229599459783598843947922169068130765735993115828"
      ]
     },
     "execution_count": 223,
     "metadata": {},
     "output_type": "execute_result"
    }
   ],
   "source": [
    "cipher"
   ]
  },
  {
   "cell_type": "code",
   "execution_count": null,
   "metadata": {},
   "outputs": [],
   "source": []
  }
 ],
 "metadata": {
  "kernelspec": {
   "display_name": "Python 3",
   "language": "python",
   "name": "python3"
  },
  "language_info": {
   "codemirror_mode": {
    "name": "ipython",
    "version": 3
   },
   "file_extension": ".py",
   "mimetype": "text/x-python",
   "name": "python",
   "nbconvert_exporter": "python",
   "pygments_lexer": "ipython3",
   "version": "3.7.4"
  }
 },
 "nbformat": 4,
 "nbformat_minor": 2
}
