{
 "cells": [
  {
   "cell_type": "markdown",
   "metadata": {},
   "source": [
    "# Chiffrement de vigenère"
   ]
  },
  {
   "cell_type": "markdown",
   "metadata": {},
   "source": [
    "## Chiffrement"
   ]
  },
  {
   "cell_type": "code",
   "execution_count": 1,
   "metadata": {},
   "outputs": [],
   "source": [
    "def encrypt(plain, key,alphabet=26):\n",
    "    output = \"\"\n",
    "    key= key.upper()\n",
    "    plain= plain.upper()\n",
    "    \n",
    "    for i, s in enumerate(plain):\n",
    "        #print(i,\"   \",s, \"   \", key[i%len(key)])\n",
    "        output += chr((ord(s) + ord(key[i%len(key)]) - 2*ord(\"A\")) % alphabet + ord(\"A\"))\n",
    "    return output"
   ]
  },
  {
   "cell_type": "code",
   "execution_count": 2,
   "metadata": {},
   "outputs": [
    {
     "data": {
      "text/plain": [
       "'POSWSMEWT'"
      ]
     },
     "execution_count": 2,
     "metadata": {},
     "output_type": "execute_result"
    }
   ],
   "source": [
    "encrypt(\"IKHLEFALI\",\"HELLO\")"
   ]
  },
  {
   "cell_type": "markdown",
   "metadata": {},
   "source": [
    "## Déchiffrement"
   ]
  },
  {
   "cell_type": "code",
   "execution_count": 3,
   "metadata": {},
   "outputs": [],
   "source": [
    "def decrypt(cipher, key,alphabet=26):\n",
    "    output = \"\"\n",
    "    key = key.upper()\n",
    "    cipher = cipher.upper()\n",
    "    \n",
    "    for i, s in enumerate(cipher):\n",
    "        #print(i,\"   \",s, \"   \", key[i%len(key)])\n",
    "        output += chr((ord(s) - ord(key[i%len(key)]) - 2*ord(\"A\")) % alphabet + ord(\"A\"))\n",
    "    return output"
   ]
  },
  {
   "cell_type": "code",
   "execution_count": 4,
   "metadata": {},
   "outputs": [
    {
     "data": {
      "text/plain": [
       "'IKHLEFALI'"
      ]
     },
     "execution_count": 4,
     "metadata": {},
     "output_type": "execute_result"
    }
   ],
   "source": [
    "decrypt(\"POSWSMEWT\",\"HELLO\")"
   ]
  },
  {
   "cell_type": "markdown",
   "metadata": {},
   "source": [
    "# Cryptanalyse de cet algorithme"
   ]
  },
  {
   "cell_type": "markdown",
   "metadata": {},
   "source": [
    "## Attaque par force brute"
   ]
  },
  {
   "cell_type": "code",
   "execution_count": 5,
   "metadata": {},
   "outputs": [],
   "source": [
    "from itertools import product\n",
    "\n",
    "cipher = encrypt(\n",
    "    \"BEFOREEVERYFEELINGOFTHESUBJECTITMUSTTHATTHESELFEXIST\",\n",
    "    \"LINA\"\n",
    ")\n",
    "\n",
    "word   = \"THESELF\"\n",
    "keyOf  = 4\n",
    "alphabet = \"AZERTYUIOPQSDFGHJKLMWXCVBN\"\n",
    "\n",
    "\n",
    "def generate_possible_key(alphabet, lenOfKey):\n",
    "    keys = []\n",
    "    for repeat in range(1,lenOfKey + 1 ):\n",
    "        for k in product(alphabet, repeat=repeat):\n",
    "            key = \"\"\n",
    "            key = key.join(list(k))\n",
    "            keys.append(key)\n",
    "\n",
    "    #print(keys)\n",
    "    return keys"
   ]
  },
  {
   "cell_type": "code",
   "execution_count": null,
   "metadata": {},
   "outputs": [],
   "source": []
  },
  {
   "cell_type": "code",
   "execution_count": 6,
   "metadata": {},
   "outputs": [
    {
     "name": "stdout",
     "output_type": "stream",
     "text": [
      "Time elapsed:9.781473335000555 s\n",
      "key is : >> LINA <<, after testing 340028 keys from 475254 keys \n",
      "plain txt is : BEFOREEVERYFEELINGOFTHESUBJECTITMUSTTHATTHESELFEXIST\n"
     ]
    }
   ],
   "source": [
    "import time\n",
    "\n",
    "keys = generate_possible_key(alphabet=alphabet,lenOfKey=4)\n",
    "\n",
    "t0= time.perf_counter()\n",
    "for i, key in enumerate(keys):\n",
    "    possible_plain = decrypt(\n",
    "        cipher,\n",
    "        key\n",
    "    )\n",
    "    if word in possible_plain :\n",
    "        print(f\"Time elapsed:{time.perf_counter() - t0} s\")\n",
    "        print(f\"key is : >> {key} <<, after testing {i} keys from {len(keys)} keys \")\n",
    "        print(f\"plain txt is : {possible_plain}\")\n",
    "        break"
   ]
  },
  {
   "cell_type": "markdown",
   "metadata": {},
   "source": [
    "## Crypte Analyse"
   ]
  },
  {
   "cell_type": "code",
   "execution_count": 7,
   "metadata": {},
   "outputs": [],
   "source": [
    "def coincidence(cipher,alphabet=26):\n",
    "    cipher = cipher.upper()\n",
    "    freq = alphabet * [0]\n",
    "    ic = 0\n",
    "    l = len(cipher)\n",
    "    for c in cipher:\n",
    "        freq[ord(c) - 65]+=1\n",
    "        \n",
    "    for item in freq:\n",
    "        ic += item * (item - 1)\n",
    "    ic /= ( l * (l - 1))\n",
    "    return ic"
   ]
  },
  {
   "cell_type": "code",
   "execution_count": 8,
   "metadata": {},
   "outputs": [
    {
     "name": "stdout",
     "output_type": "stream",
     "text": [
      "MMSOCMRVPZLFPMYIYOBFEPRSFJWENBVTXCFTEPNTEPRSPTSEIQFT\n"
     ]
    },
    {
     "data": {
      "text/plain": [
       "0.05052790346907994"
      ]
     },
     "execution_count": 8,
     "metadata": {},
     "output_type": "execute_result"
    }
   ],
   "source": [
    "cipher = encrypt(\n",
    "    \"BEFOREEVERYFEELINGOFTHESUBJECTITMUSTTHATTHESELFEXIST\",\n",
    "    \"LINA\"\n",
    ")\n",
    "print(cipher)\n",
    "coincidence(cipher)"
   ]
  },
  {
   "cell_type": "markdown",
   "metadata": {},
   "source": [
    "### Determination de la taille de la clé"
   ]
  },
  {
   "cell_type": "code",
   "execution_count": 9,
   "metadata": {},
   "outputs": [],
   "source": [
    "MAX_LENGHT = 25"
   ]
  },
  {
   "cell_type": "code",
   "execution_count": 10,
   "metadata": {},
   "outputs": [],
   "source": [
    "def get_key_len(cipher):\n",
    "    cipher = cipher.upper()\n",
    "    ics = []\n",
    "    for probable_len in range(1,MAX_LENGHT):\n",
    "        ic     = 0.0\n",
    "        avg_ic = 0.0\n",
    "        for i in range(0,probable_len):\n",
    "            subcipher = \"\"\n",
    "            for j in range(0, len(cipher[i:]),probable_len):\n",
    "                subcipher += cipher[i+j]\n",
    "            #print(subcipher)\n",
    "            ic += coincidence(subcipher)\n",
    "        \n",
    "        avg_ic=ic/probable_len\n",
    "        ics.append((avg_ic,probable_len))\n",
    "    \n",
    "    # Za3ma\n",
    "    for idx, v in enumerate(sorted(ics, reverse = True, key= lambda item: item[0])):\n",
    "        if v[0] < 0.1:\n",
    "            p1 = sorted(ics, reverse = True, key= lambda item: item[0])[idx]\n",
    "            p2 = sorted(ics, reverse = True, key= lambda item: item[0])[idx+1]\n",
    "            break\n",
    "    \n",
    "    if p1[1] % p2[1] == 0:\n",
    "        return p2\n",
    "    else :\n",
    "        return p1"
   ]
  },
  {
   "cell_type": "code",
   "execution_count": 11,
   "metadata": {},
   "outputs": [
    {
     "data": {
      "text/plain": [
       "(0.08333333333333334, 4)"
      ]
     },
     "execution_count": 11,
     "metadata": {},
     "output_type": "execute_result"
    }
   ],
   "source": [
    "get_key_len(\"MMSOCMRVPZLFPMYIYOBFEPRSFJWENBVTXCFTEPNTEPRSPTSEIQFT\")"
   ]
  },
  {
   "cell_type": "markdown",
   "metadata": {},
   "source": [
    "### Determination de la clé"
   ]
  },
  {
   "cell_type": "markdown",
   "metadata": {},
   "source": [
    "http://pi.math.cornell.edu/~mec/2003-2004/cryptography/subs/frequencies.html"
   ]
  },
  {
   "cell_type": "code",
   "execution_count": 12,
   "metadata": {},
   "outputs": [],
   "source": [
    "# Za3ma :/\n",
    "english_freqs = [8.12,1.49,2.71,4.32,12.02,\n",
    " 2.30,0.10,5.92,7.31,2.03,\n",
    " 0.69,3.98,2.61,6.95,7.68,\n",
    " 1.82,0.11,6.02,6.28,9.10,\n",
    " 2.88,1.11,0.17,2.09,2.11,0.07,\n",
    "]"
   ]
  },
  {
   "cell_type": "code",
   "execution_count": 13,
   "metadata": {},
   "outputs": [],
   "source": [
    "def freq_analysis(cipher,reference,alphabet=26):\n",
    "    cipher = cipher.upper()\n",
    "    l =  len(cipher)\n",
    "    freqs = alphabet * [0]\n",
    "    \n",
    "    for c in cipher:\n",
    "        freqs[ord(c) - ord(\"A\")] += (1/l)*100\n",
    "        \n",
    "    # calculate given func\n",
    "    d = 0.0\n",
    "    for i in range(alphabet):\n",
    "        d+= abs(freqs[i] - reference[i])\n",
    "        \n",
    "    ref_max = reference.index(max(reference))\n",
    "    freq_max = freqs.index(max(freqs))\n",
    "    \n",
    "    return (chr((freq_max - ref_max)%alphabet + ord(\"A\")),d/100)"
   ]
  },
  {
   "cell_type": "code",
   "execution_count": 14,
   "metadata": {},
   "outputs": [],
   "source": [
    "def get_key(cipher,lenOfkey):\n",
    "    key = \"\"\n",
    "    \n",
    "    for i in range(lenOfkey):\n",
    "        seq = \"\"\n",
    "        for j in range(0,len(cipher[i:]),lenOfkey):\n",
    "            seq+=cipher[i+j]\n",
    "        key+=freq_analysis(seq,english_freqs)[0]\n",
    "    print(key)"
   ]
  },
  {
   "cell_type": "code",
   "execution_count": 15,
   "metadata": {},
   "outputs": [
    {
     "name": "stdout",
     "output_type": "stream",
     "text": [
      "AINP\n"
     ]
    }
   ],
   "source": [
    "get_key(\n",
    "    cipher=\"MMSOCMRVPZLFPMYIYOBFEPRSFJWENBVTXCFTEPNTEPRSPTSEIQFT\",\n",
    "    lenOfkey=4\n",
    ")"
   ]
  }
 ],
 "metadata": {
  "kernelspec": {
   "display_name": "Python 3",
   "language": "python",
   "name": "python3"
  },
  "language_info": {
   "codemirror_mode": {
    "name": "ipython",
    "version": 3
   },
   "file_extension": ".py",
   "mimetype": "text/x-python",
   "name": "python",
   "nbconvert_exporter": "python",
   "pygments_lexer": "ipython3",
   "version": "3.7.4"
  }
 },
 "nbformat": 4,
 "nbformat_minor": 2
}
